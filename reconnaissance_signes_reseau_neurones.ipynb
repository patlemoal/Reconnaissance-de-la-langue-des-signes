{
 "cells": [
  {
   "cell_type": "markdown",
   "metadata": {},
   "source": [
    "# **Reconnaissance de la langue des signes**"
   ]
  },
  {
   "cell_type": "markdown",
   "metadata": {},
   "source": [
    "Beaucoup de progrès et de recherches en IA ont été faites pour aider les personnes sourdes et muettes. L'apprentissage profond et la vision par ordinateur peuvent également être utilisés pour avoir un impact sur cette cause.\n",
    "\n",
    "Cela peut être très utile pour les personnes sourdes et muettes dans la communication avec les autres car la connaissance de la langue des signes n'est pas quelque chose qui est commun à tous, de plus, cela peut être étendu à la création des éditeurs automatiques, où la personne peut facilement écrire par ses simples gestes "
   ]
  },
  {
   "cell_type": "markdown",
   "metadata": {},
   "source": [
    "## <u> Objectifs du projet : <u/>\n",
    "    \n",
    "- Création du jeu de données (chaque signe est associé à une lettre)\n",
    "- Entrainez votre modèle sur le jeu de donnée\n",
    "- Testez votre modèle sur des images afin de construire des mots ou des phrases\n",
    "- Testez en temps réel avec une Webcam"
   ]
  },
  {
   "cell_type": "markdown",
   "metadata": {},
   "source": [
    "![image](alphabetsigné.jpg)"
   ]
  },
  {
   "cell_type": "markdown",
   "metadata": {},
   "source": [
    "# LANGUE DES SIGNES "
   ]
  },
  {
   "cell_type": "markdown",
   "metadata": {},
   "source": [
    "Tout comme les autres langues auxquelles nous sommes plus habitués, la langue des signes n’est pas universelle. Ainsi, les alphabets dactylologiques belge, néerlandais, suisse, allemand, danois, suédois, italien, espagnol, portugais, argentin, brésilien n’utilisent qu’une seule main pour épeler un mot. En effet, ils ont tous la même racine : l’alphabet des sourds français utilisé au 18e siècle. À contrario, les alphabets anglais, australien, irlandais, yougoslave font appel aux deux mains.\n",
    "\n",
    "Comme une langue orale, la langue des signes s’est créée grâce à des signes arbitraires (comme nos propres mots arbitraires) afin qu’ils puissent se comprendre. Par exemple, certains mots se signent avec la forme des doigts qui imite la première lettre du mot en dactylologie ; la couleur « rose » se dit en formant la lettre « R » avec la main et en passant la main sous le menton. Certains signes de base, comme manger, boire ou laver, sont néanmoins identiques, ce qui est compréhensible. Ainsi, des sourds de pays différents et avec une langue des signes différente se comprennent presque totalement au bout de deux heures de discussion environ, quel que soit le niveau de difficulté du sujet de discussion"
   ]
  },
  {
   "cell_type": "markdown",
   "metadata": {},
   "source": [
    "La grammaire de la LSF\n",
    "\n",
    "Il existe des signes qui préfigurent une expression idiomatique du français et traduisent une phrase entière en un seul geste.\n",
    "\n",
    "    Les temps du verbe n’existent pas, en LSF, on précise seulement le moment où se déroule l’action (avant ou hier pour le passé, aujourd’hui pour le présent, après ou demain pour le futur). Mais le temps est donné par la position du corps et en particulier de l’épaule de la main maîtresse. Le positionnement des signes par rapport au corps (plus ou moins éloignés) donne aussi l’idée du temps (passé, présent, futur).\n",
    "    La date exacte est ensuite posée par le signeur si nécessaire (il y a deux ans, hier, tout à l’heure, demain, dans un mois, etc.). L’ordre des signes est inversé. Le verbe se met généralement en fin de phrase. En premier, on met toujours les compléments circonstanciels de temps, de lieu. C’est une logique très visuelle. Enfin, comme nous l’avons déjà mentionné, le corps et les mimiques du visage sont très importants et renseignent l’interlocuteur sur le type de phrase.\n",
    "    L’alphabet dactylographique consiste à représenter chaque lettre de l’alphabet par une position définie des doigts de la main (droite pour les droitiers et gauche pour les gauchers). Cet alphabet ne sert qu’à épeler des mots inconnus (noms de villes, prénoms, etc.). Le prénom des personnes est toujours épelé avec la dactylologie (l’alphabet de sourds que l’on signe avec la main). Mais en fait, en entrant dans une communauté sourde, il est d’usage de recevoir un surnom, un prénom qui se fait en un seul geste. Ce nouveau nom s’attribue généralement en fonction d’une caractéristique morale ou physique qui semble la plus importante !"
   ]
  },
  {
   "cell_type": "markdown",
   "metadata": {},
   "source": [
    "# 1. Jeu de données"
   ]
  },
  {
   "cell_type": "markdown",
   "metadata": {},
   "source": [
    "* A- Création d'un dataset : "
   ]
  },
  {
   "cell_type": "markdown",
   "metadata": {},
   "source": [
    "La première étape de notre projet consiste à photographier chacun des 26 signes de l'aphabet, plus une catégorie inconnue en photo. Pour cela, l'utilisation d'un mode rafale s'avère pratique. Nous choisissons de télécharger le modue Autowebcam ."
   ]
  },
  {
   "cell_type": "markdown",
   "metadata": {},
   "source": [
    "     - Téléchargement de AutoWebcam pour la prise de photos en mode rafale."
   ]
  },
  {
   "cell_type": "markdown",
   "metadata": {},
   "source": [
    "https://www.commentcamarche.net/download/telecharger-34084780-autowebcam"
   ]
  },
  {
   "cell_type": "markdown",
   "metadata": {},
   "source": [
    "    - stockage des photos => C:\\Program Files (x86)\\AutoWebCam\\Images"
   ]
  },
  {
   "cell_type": "markdown",
   "metadata": {},
   "source": [
    "* B- Labellisation des photos"
   ]
  },
  {
   "cell_type": "markdown",
   "metadata": {},
   "source": [
    " partir du tuto :\n",
    "https://github.com/tzutalin/labelImg\n",
    "\n",
    "- télécharger le githup sur ordi et suivre le read me\n",
    "- suivre les installations pour windows\n",
    "- se placer sur le dossier source (labelImg-master)dans l'invite de commande et saisir dans le répertoire : \n",
    "    - labelImg-master\n",
    "    - pyrcc5 -o libs/resources.py resources.qrc\n",
    "    - python labelImg.py\n",
    "    \n",
    "    "
   ]
  },
  {
   "cell_type": "markdown",
   "metadata": {},
   "source": [
    "### exemple de labelling pour la lettre L"
   ]
  },
  {
   "cell_type": "code",
   "execution_count": 46,
   "metadata": {},
   "outputs": [
    {
     "name": "stderr",
     "output_type": "stream",
     "text": [
      "'[exemplelabelling.PNG]' n’est pas reconnu en tant que commande interne\n",
      "ou externe, un programme exécutable ou un fichier de commandes.\n"
     ]
    },
    {
     "data": {
      "text/html": [
       "\n",
       "        <iframe\n",
       "            width=\"900\"\n",
       "            height=\"200\"\n",
       "            src=\"exemplelabelling.PNG\"\n",
       "            frameborder=\"0\"\n",
       "            allowfullscreen\n",
       "        ></iframe>\n",
       "        "
      ],
      "text/plain": [
       "<IPython.lib.display.IFrame at 0x2680aa52700>"
      ]
     },
     "execution_count": 46,
     "metadata": {},
     "output_type": "execute_result"
    }
   ],
   "source": [
    "![exemplelabelling.PNG](exemplelabelling.PNG)\n",
    "from IPython.display import IFrame, display\n",
    "filepath = \"exemplelabelling.PNG\"\n",
    "IFrame(filepath, width=900, height=200)"
   ]
  },
  {
   "cell_type": "markdown",
   "metadata": {},
   "source": [
    "## 2. Mise en place du jeu de données"
   ]
  },
  {
   "cell_type": "markdown",
   "metadata": {},
   "source": [
    " Nous partons d'un jeu de données trouvé internet pour les raisons expliquées oralement. \n",
    " Toutes nos photos sont dans le répertoire ```lettres```(data_path) et seront dispachées dans les répertoires ```test```  et  ```train```"
   ]
  },
  {
   "cell_type": "code",
   "execution_count": 2,
   "metadata": {},
   "outputs": [],
   "source": [
    "import tensorflow as tf\n",
    "from tensorflow import keras\n",
    "from keras.models import Sequential\n",
    "from keras.layers import Activation, Dense, Flatten, BatchNormalization, Conv2D, MaxPool2D, Dropout\n",
    "from keras.optimizers import Adam, SGD\n",
    "from keras.metrics import categorical_crossentropy\n",
    "from keras.preprocessing.image import ImageDataGenerator\n",
    "import matplotlib.pyplot as plt\n",
    "import warnings\n",
    "import numpy as np\n",
    "import os\n",
    "import cv2\n",
    "import re\n",
    "from keras.callbacks import ReduceLROnPlateau\n",
    "from keras.callbacks import ModelCheckpoint, EarlyStopping\n",
    "warnings.simplefilter(action='ignore', category=FutureWarning)"
   ]
  },
  {
   "cell_type": "code",
   "execution_count": 3,
   "metadata": {},
   "outputs": [],
   "source": [
    "from shutil import copy\n",
    "from time import sleep"
   ]
  },
  {
   "cell_type": "code",
   "execution_count": 4,
   "metadata": {},
   "outputs": [],
   "source": [
    "#Chargement des données\n",
    "data_path = r'C:\\Users\\utilisateur\\Google Drive\\microsoft_ia\\Google Drive\\projets\\ia\\Reconnaissance des signes test\\lettres'\n",
    "\n",
    "test = r'C:\\Users\\utilisateur\\Google Drive\\microsoft_ia\\Google Drive\\projets\\ia\\Reconnaissance des signes test\\test'\n",
    "train = r'C:\\Users\\utilisateur\\Google Drive\\microsoft_ia\\Google Drive\\projets\\ia\\Reconnaissance des signes test\\train'\n",
    "\n",
    "    "
   ]
  },
  {
   "cell_type": "code",
   "execution_count": 5,
   "metadata": {},
   "outputs": [
    {
     "name": "stdout",
     "output_type": "stream",
     "text": [
      "a 1500\n",
      "b 1500\n",
      "c 1500\n",
      "d 1500\n",
      "e 1500\n",
      "f 1500\n",
      "g 1500\n",
      "h 1500\n",
      "i 1500\n",
      "j 1500\n",
      "k 1500\n",
      "l 1500\n",
      "m 1500\n",
      "n 1500\n",
      "o 1500\n",
      "p 1500\n",
      "q 1500\n",
      "r 1500\n",
      "s 1500\n",
      "t 1500\n",
      "u 1500\n",
      "unknown 1500\n",
      "v 1500\n",
      "w 1500\n",
      "x 1500\n",
      "y 1500\n",
      "z 1500\n"
     ]
    }
   ],
   "source": [
    "# Afficher le nombre de photos dans le répertoire\n",
    "#os.listdir() pour obtenir tout ce qui est dans un répertoire - fichiers et répertoires.\n",
    "for lettre in os.listdir(data_path):\n",
    "    path = data_path + \"\\\\\" + lettre#lettre correspond à un répertoire\n",
    "    print(lettre, len(os.listdir(path)))\n"
   ]
  },
  {
   "cell_type": "code",
   "execution_count": 6,
   "metadata": {},
   "outputs": [
    {
     "name": "stdout",
     "output_type": "stream",
     "text": [
      "a 1200\n",
      "b 1200\n",
      "c 1200\n",
      "d 1200\n",
      "e 1200\n",
      "f 1200\n",
      "g 1200\n",
      "h 1200\n",
      "i 1200\n",
      "j 1200\n",
      "k 1200\n",
      "l 1200\n",
      "m 1200\n",
      "n 1200\n",
      "o 1200\n",
      "p 1200\n",
      "q 1200\n",
      "r 1200\n",
      "s 1200\n",
      "t 1200\n",
      "u 1200\n",
      "unknown 1200\n",
      "v 1200\n",
      "w 1200\n",
      "x 1200\n",
      "y 1200\n",
      "z 1200\n"
     ]
    }
   ],
   "source": [
    "#selectionner 80% des photos pour le jeu d'entrainement\n",
    "for lettre in os.listdir(data_path):\n",
    "    path = data_path + \"\\\\\" + lettre\n",
    "    taille = len(os.listdir(path))\n",
    "    sequence = round(0.8*taille)\n",
    "    print(lettre, sequence)"
   ]
  },
  {
   "cell_type": "code",
   "execution_count": 7,
   "metadata": {},
   "outputs": [],
   "source": [
    "#insérer 80% des images du fichier lettres dans le dossier train et 20% dans le dossier test\n",
    "for lettre in os.listdir(data_path):\n",
    "    path = data_path + \"\\\\\" + lettre\n",
    "    taille = len(os.listdir(path))\n",
    "    sequence = round(0.8 * taille)#arrondir les nombres ici 1200\n",
    "    #on va dans chaque repertoire a, b... on lit les images\n",
    "    train_path = train + \"\\\\\" + lettre\n",
    "    test_path = test + \"\\\\\" + lettre\n",
    "    for img in os.listdir(path):\n",
    "        #extraction des chiffres dans le libellé\n",
    "        image =  re.findall(r'\\d+', img)\n",
    "        #variable pour le path de l'image\n",
    "        image_path = path + \"\\\\\" + img \n",
    "        if int(image[0])<sequence:\n",
    "            copy(image_path,train_path)\n",
    "        else :\n",
    "            copy(image_path,test_path)\n",
    "  "
   ]
  },
  {
   "cell_type": "markdown",
   "metadata": {},
   "source": [
    "# Mise en place du CNN"
   ]
  },
  {
   "cell_type": "markdown",
   "metadata": {},
   "source": [
    "Nous chargeons les données via ```ImageDataGenerator``` à travers lequel nous pouvons utiliser la fonction ```flow_from_directory``` pour charger les données du train et de l'ensemble de test, et chacun des noms des dossiers numériques sera le nom de classe des images chargées"
   ]
  },
  {
   "cell_type": "code",
   "execution_count": 8,
   "metadata": {},
   "outputs": [
    {
     "name": "stdout",
     "output_type": "stream",
     "text": [
      "Found 32373 images belonging to 27 classes.\n",
      "Found 8127 images belonging to 27 classes.\n"
     ]
    }
   ],
   "source": [
    "train_batches = ImageDataGenerator(preprocessing_function=tf.keras.applications.vgg16.preprocess_input).flow_from_directory(directory=train, target_size=(64,64), class_mode='categorical', batch_size=10,shuffle=True)\n",
    "test_batches = ImageDataGenerator(preprocessing_function=tf.keras.applications.vgg16.preprocess_input).flow_from_directory(directory=test, target_size=(64,64), class_mode='categorical', batch_size=10, shuffle=True)"
   ]
  },
  {
   "cell_type": "markdown",
   "metadata": {},
   "source": [
    "### Structure du répertoire"
   ]
  },
  {
   "cell_type": "markdown",
   "metadata": {},
   "source": [
    "Nous avons bien nos 40 500 images réparties dans 2 répertoires :\n",
    "- un train avec 32 373 images \n",
    "- un test avec 8127 images  \n",
    "\n",
    "\n",
    "et 27  classes qui correspondent aux différentes lettres de l'alphabet et la catégorie inconnue."
   ]
  },
  {
   "cell_type": "code",
   "execution_count": 9,
   "metadata": {},
   "outputs": [
    {
     "name": "stderr",
     "output_type": "stream",
     "text": [
      "Clipping input data to the valid range for imshow with RGB data ([0..1] for floats or [0..255] for integers).\n",
      "Clipping input data to the valid range for imshow with RGB data ([0..1] for floats or [0..255] for integers).\n",
      "Clipping input data to the valid range for imshow with RGB data ([0..1] for floats or [0..255] for integers).\n",
      "Clipping input data to the valid range for imshow with RGB data ([0..1] for floats or [0..255] for integers).\n",
      "Clipping input data to the valid range for imshow with RGB data ([0..1] for floats or [0..255] for integers).\n",
      "Clipping input data to the valid range for imshow with RGB data ([0..1] for floats or [0..255] for integers).\n",
      "Clipping input data to the valid range for imshow with RGB data ([0..1] for floats or [0..255] for integers).\n",
      "Clipping input data to the valid range for imshow with RGB data ([0..1] for floats or [0..255] for integers).\n",
      "Clipping input data to the valid range for imshow with RGB data ([0..1] for floats or [0..255] for integers).\n",
      "Clipping input data to the valid range for imshow with RGB data ([0..1] for floats or [0..255] for integers).\n"
     ]
    },
    {
     "data": {
      "image/png": "[encoded data removed]",
      "text/plain": [
       "<Figure size 2160x1440 with 10 Axes>"
      ]
     },
     "metadata": {
      "needs_background": "light"
     },
     "output_type": "display_data"
    },
    {
     "name": "stdout",
     "output_type": "stream",
     "text": [
      "(10, 64, 64, 3)\n",
      "[[0. 0. 0. 0. 0. 0. 0. 0. 0. 0. 0. 0. 0. 0. 0. 0. 0. 1. 0. 0. 0. 0. 0. 0.\n",
      "  0. 0. 0.]\n",
      " [0. 0. 0. 0. 0. 0. 0. 0. 0. 0. 1. 0. 0. 0. 0. 0. 0. 0. 0. 0. 0. 0. 0. 0.\n",
      "  0. 0. 0.]\n",
      " [0. 0. 0. 0. 0. 0. 0. 0. 0. 0. 0. 0. 0. 0. 0. 0. 0. 0. 0. 0. 0. 0. 0. 0.\n",
      "  0. 1. 0.]\n",
      " [0. 0. 0. 0. 0. 0. 0. 0. 0. 0. 0. 0. 0. 0. 0. 1. 0. 0. 0. 0. 0. 0. 0. 0.\n",
      "  0. 0. 0.]\n",
      " [0. 0. 0. 0. 0. 0. 0. 0. 0. 0. 0. 0. 0. 0. 0. 0. 0. 0. 0. 1. 0. 0. 0. 0.\n",
      "  0. 0. 0.]\n",
      " [0. 0. 0. 0. 0. 0. 0. 0. 0. 0. 0. 0. 0. 1. 0. 0. 0. 0. 0. 0. 0. 0. 0. 0.\n",
      "  0. 0. 0.]\n",
      " [0. 0. 0. 0. 0. 0. 0. 0. 1. 0. 0. 0. 0. 0. 0. 0. 0. 0. 0. 0. 0. 0. 0. 0.\n",
      "  0. 0. 0.]\n",
      " [0. 0. 0. 0. 0. 0. 0. 0. 0. 1. 0. 0. 0. 0. 0. 0. 0. 0. 0. 0. 0. 0. 0. 0.\n",
      "  0. 0. 0.]\n",
      " [0. 0. 0. 0. 0. 0. 0. 0. 0. 0. 0. 0. 0. 0. 0. 0. 0. 0. 1. 0. 0. 0. 0. 0.\n",
      "  0. 0. 0.]\n",
      " [0. 0. 0. 0. 0. 0. 0. 0. 0. 0. 0. 1. 0. 0. 0. 0. 0. 0. 0. 0. 0. 0. 0. 0.\n",
      "  0. 0. 0.]]\n"
     ]
    }
   ],
   "source": [
    "imgs, labels = next(train_batches)\n",
    "#Plotting the images...\n",
    "def plotImages(images_arr):\n",
    "    fig, axes = plt.subplots(1, 10, figsize=(30,20))\n",
    "    axes = axes.flatten()\n",
    "    for img, ax in zip( images_arr, axes):\n",
    "        img = cv2.cvtColor(img, cv2.COLOR_BGR2RGB)\n",
    "        ax.imshow(img)\n",
    "        ax.axis('off')\n",
    "    plt.tight_layout()\n",
    "    plt.show()\n",
    "plotImages(imgs)\n",
    "print(imgs.shape)\n",
    "print(labels)"
   ]
  },
  {
   "cell_type": "markdown",
   "metadata": {},
   "source": [
    "### Création du CNN"
   ]
  },
  {
   "cell_type": "code",
   "execution_count": 11,
   "metadata": {},
   "outputs": [],
   "source": [
    "model = Sequential()\n",
    "model.add(Conv2D(filters=32, kernel_size=(3, 3), activation='relu', input_shape=(64,64,3)))\n",
    "model.add(MaxPool2D(pool_size=(2, 2), strides=2))\n",
    "model.add(Conv2D(filters=64, kernel_size=(3, 3), activation='relu', padding = 'same'))\n",
    "model.add(MaxPool2D(pool_size=(2, 2), strides=2))\n",
    "model.add(Conv2D(filters=128, kernel_size=(3, 3), activation='relu', padding = 'valid'))\n",
    "model.add(MaxPool2D(pool_size=(2, 2), strides=2))\n",
    "model.add(Flatten())\n",
    "model.add(Dense(64,activation =\"relu\"))\n",
    "model.add(Dense(128,activation =\"relu\"))\n",
    "#model.add(Dropout(0.2))\n",
    "model.add(Dense(128,activation =\"relu\"))\n",
    "#model.add(Dropout(0.3))\n",
    "model.add(Dense(27,activation =\"softmax\"))"
   ]
  },
  {
   "cell_type": "code",
   "execution_count": 12,
   "metadata": {},
   "outputs": [
    {
     "name": "stdout",
     "output_type": "stream",
     "text": [
      "Model: \"sequential\"\n",
      "_________________________________________________________________\n",
      "Layer (type)                 Output Shape              Param #   \n",
      "=================================================================\n",
      "conv2d (Conv2D)              (None, 62, 62, 32)        896       \n",
      "_________________________________________________________________\n",
      "max_pooling2d (MaxPooling2D) (None, 31, 31, 32)        0         \n",
      "_________________________________________________________________\n",
      "conv2d_1 (Conv2D)            (None, 31, 31, 64)        18496     \n",
      "_________________________________________________________________\n",
      "max_pooling2d_1 (MaxPooling2 (None, 15, 15, 64)        0         \n",
      "_________________________________________________________________\n",
      "conv2d_2 (Conv2D)            (None, 13, 13, 128)       73856     \n",
      "_________________________________________________________________\n",
      "max_pooling2d_2 (MaxPooling2 (None, 6, 6, 128)         0         \n",
      "_________________________________________________________________\n",
      "flatten (Flatten)            (None, 4608)              0         \n",
      "_________________________________________________________________\n",
      "dense (Dense)                (None, 64)                294976    \n",
      "_________________________________________________________________\n",
      "dense_1 (Dense)              (None, 128)               8320      \n",
      "_________________________________________________________________\n",
      "dense_2 (Dense)              (None, 128)               16512     \n",
      "_________________________________________________________________\n",
      "dense_3 (Dense)              (None, 27)                3483      \n",
      "=================================================================\n",
      "Total params: 416,539\n",
      "Trainable params: 416,539\n",
      "Non-trainable params: 0\n",
      "_________________________________________________________________\n"
     ]
    }
   ],
   "source": [
    "model.summary()"
   ]
  },
  {
   "cell_type": "markdown",
   "metadata": {},
   "source": [
    "###  Ajustement (fit) et enregistrement(save) du modèle pour l'utiliser lors de la détection video."
   ]
  },
  {
   "cell_type": "markdown",
   "metadata": {},
   "source": [
    "\n",
    "Les callbacks sont des méthodes de keras qui vont nous faire gagner du temps. On les met dans une liste et l'on passera cette liste à la méthode d'apprentissage fit() lorsqu'on entraînera le modèle.\n",
    "\n",
    "\n",
    "- Le Early Stopping est un callback qui va stopper l'apprentissage afin d'éviter le suraprentissage.\n",
    "\n",
    "- Le Reduce LR on Plateau va réduire le learning rate lorsque la val_accuracy atteint un plateau afin que le modèle continue à apprendre des features interessantes :"
   ]
  },
  {
   "cell_type": "markdown",
   "metadata": {},
   "source": [
    "\n",
    "\n",
    "Lors de la formation denotre modèle, nous utiliserons ```ReduceLRonplateau``` and ```earlystopping```. Les 2 callbacks dépendent de la ```val_loss```\n",
    "\n",
    "Après chaque epoch, l'accuracy(précision) et la loss (perte)sont calculées à l'aide de l'ensemble des données de validation.\n",
    "Si ```val_loss``` ne diminue pas, le LR du modèle est réduit à l'aide de la ```reduce_lr``` pour empêcher le modèle de dépasser les minima de perte et nous utilisons également ```EarlyStopping``` algorithm de sorte que si la ```validatiion accurany``` continue de diminuer pendant certaines epochs, l'apprentissage est arrêté.\n",
    "\n",
    "L'exemple contient les callbacks utilisés, ainsi que les deux algorithmes d'optimisation différents utilisés - ```SGD``` (descente de gradient stochastique, ce qui signifie que les poids sont mis à jour à chaque instance d'entraînement) et ```Adam``` est utilisé.\n",
    "\n",
    "Nous avons trouvé que le modèle SGD semblait donner des précisions plus élevées."
   ]
  },
  {
   "cell_type": "code",
   "execution_count": 13,
   "metadata": {},
   "outputs": [],
   "source": [
    "model.compile(optimizer=Adam(learning_rate=0.001), loss='categorical_crossentropy', metrics=['accuracy'])\n",
    "reduce_lr = ReduceLROnPlateau(monitor='val_loss', factor=0.2, patience=1, min_lr=0.0001)\n",
    "early_stop = EarlyStopping(monitor='val_loss', min_delta=0, patience=2, verbose=0, mode='auto')\n",
    "model.compile(optimizer=SGD(learning_rate=0.001), loss='categorical_crossentropy', metrics=['accuracy'])\n",
    "reduce_lr = ReduceLROnPlateau(monitor='val_loss', factor=0.2, patience=1, min_lr=0.0005)\n",
    "early_stop = EarlyStopping(monitor='val_loss', min_delta=0, patience=2, verbose=0, mode='auto')"
   ]
  },
  {
   "cell_type": "markdown",
   "metadata": {},
   "source": [
    "Après avoir compilé le modèle (```compile```), nous l'ajustons (```fit```) sur les ```train_batches``` pour XX epochs(peut varier selon le choix des paramètres), en utilisant les ```callbacks``` décrits ci-dessus."
   ]
  },
  {
   "cell_type": "markdown",
   "metadata": {},
   "source": [
    " Après plusieurs tentatives , les paramètres suivants sont choisis"
   ]
  },
  {
   "cell_type": "code",
   "execution_count": 14,
   "metadata": {},
   "outputs": [
    {
     "name": "stdout",
     "output_type": "stream",
     "text": [
      "Epoch 1/10\n",
      "3238/3238 [==============================] - 307s 94ms/step - loss: 1.8728 - accuracy: 0.4985 - val_loss: 1.5730 - val_accuracy: 0.6157\n",
      "Epoch 2/10\n",
      "3238/3238 [==============================] - 304s 94ms/step - loss: 0.5305 - accuracy: 0.8447 - val_loss: 1.5073 - val_accuracy: 0.6948\n",
      "Epoch 3/10\n",
      "3238/3238 [==============================] - 320s 99ms/step - loss: 0.3386 - accuracy: 0.9017 - val_loss: 1.2851 - val_accuracy: 0.7425\n",
      "Epoch 4/10\n",
      "3238/3238 [==============================] - 357s 110ms/step - loss: 0.2241 - accuracy: 0.9336 - val_loss: 1.4060 - val_accuracy: 0.7506\n",
      "Epoch 5/10\n",
      "3238/3238 [==============================] - 356s 110ms/step - loss: 0.1315 - accuracy: 0.9610 - val_loss: 1.4600 - val_accuracy: 0.7805\n"
     ]
    }
   ],
   "source": [
    "history2 = model.fit(train_batches, epochs=10, callbacks=[reduce_lr, early_stop],  validation_data = test_batches)"
   ]
  },
  {
   "cell_type": "code",
   "execution_count": 15,
   "metadata": {},
   "outputs": [
    {
     "data": {
      "text/plain": [
       "{'loss': [1.219596266746521,\n",
       "  0.4927690029144287,\n",
       "  0.30963438749313354,\n",
       "  0.21828532218933105,\n",
       "  0.1252930760383606],\n",
       " 'accuracy': [0.6626200675964355,\n",
       "  0.8561764359474182,\n",
       "  0.9076390862464905,\n",
       "  0.9360578060150146,\n",
       "  0.9631174206733704],\n",
       " 'val_loss': [1.5730071067810059,\n",
       "  1.5072821378707886,\n",
       "  1.285140872001648,\n",
       "  1.4059547185897827,\n",
       "  1.4599778652191162],\n",
       " 'val_accuracy': [0.6157253384590149,\n",
       "  0.6948443651199341,\n",
       "  0.7424634099006653,\n",
       "  0.7505844831466675,\n",
       "  0.7804847955703735],\n",
       " 'lr': [0.001, 0.001, 0.001, 0.001, 0.0005]}"
      ]
     },
     "execution_count": 15,
     "metadata": {},
     "output_type": "execute_result"
    }
   ],
   "source": [
    "history2.history"
   ]
  },
  {
   "cell_type": "markdown",
   "metadata": {},
   "source": [
    "Nous obtenons maintenant le ```batch_images``` à partir des données de test, évaluons le modèle sur l'ensemble de test et imprimons les scores de précision et de perte."
   ]
  },
  {
   "cell_type": "code",
   "execution_count": 16,
   "metadata": {},
   "outputs": [
    {
     "name": "stdout",
     "output_type": "stream",
     "text": [
      "loss of 0.38040998578071594; accuracy of 89.99999761581421%\n"
     ]
    }
   ],
   "source": [
    "# Prochain batches_images(lot d'images)..\n",
    "imgs, labels = next(test_batches) \n",
    "scores = model.evaluate(imgs, labels, verbose=0)\n",
    "print(f'{model.metrics_names[0]} of {scores[0]}; {model.metrics_names[1]} of {scores[1]*100}%')\n",
    "#sauvegarde du modèle : model.save()  function.\n",
    "model.save('best_model_dataflair3.h5')"
   ]
  },
  {
   "cell_type": "markdown",
   "metadata": {},
   "source": [
    "### Visaualisation des tests"
   ]
  },
  {
   "cell_type": "code",
   "execution_count": 18,
   "metadata": {},
   "outputs": [
    {
     "name": "stdout",
     "output_type": "stream",
     "text": [
      "predictions sur un ensemble de données--\n",
      "\n",
      "T   unknown   Q   E   S   unknown   W   P   L   K   "
     ]
    },
    {
     "name": "stderr",
     "output_type": "stream",
     "text": [
      "Clipping input data to the valid range for imshow with RGB data ([0..1] for floats or [0..255] for integers).\n",
      "Clipping input data to the valid range for imshow with RGB data ([0..1] for floats or [0..255] for integers).\n",
      "Clipping input data to the valid range for imshow with RGB data ([0..1] for floats or [0..255] for integers).\n",
      "Clipping input data to the valid range for imshow with RGB data ([0..1] for floats or [0..255] for integers).\n",
      "Clipping input data to the valid range for imshow with RGB data ([0..1] for floats or [0..255] for integers).\n",
      "Clipping input data to the valid range for imshow with RGB data ([0..1] for floats or [0..255] for integers).\n",
      "Clipping input data to the valid range for imshow with RGB data ([0..1] for floats or [0..255] for integers).\n",
      "Clipping input data to the valid range for imshow with RGB data ([0..1] for floats or [0..255] for integers).\n",
      "Clipping input data to the valid range for imshow with RGB data ([0..1] for floats or [0..255] for integers).\n",
      "Clipping input data to the valid range for imshow with RGB data ([0..1] for floats or [0..255] for integers).\n"
     ]
    },
    {
     "data": {
      "image/png": "[encoded data removed]",
      "text/plain": [
       "<Figure size 2160x1440 with 10 Axes>"
      ]
     },
     "metadata": {
      "needs_background": "light"
     },
     "output_type": "display_data"
    },
    {
     "name": "stdout",
     "output_type": "stream",
     "text": [
      "Actual labels\n",
      "T   H   Q   E   S   unknown   W   P   L   K   "
     ]
    }
   ],
   "source": [
    "#dictionnaire contenant les labels pour les predictions\n",
    "word_dict = {0:'A',1:'B',2:'C',3:'D',4:'E',5:'F',6:'G',7:'H',8:'I',9:'J',10:'K',11:'L',12:'M',13:'N',14:'O',15:'P',16:'Q',17:'R',18:'S',19:'T',20:'U',21:'unknown',22:'V',23:'W',24:'X',25:'Y', 26:'Z'}\n",
    "predictions = model.predict(imgs, verbose=0)\n",
    "print(\"predictions sur un ensemble de données--\")\n",
    "print(\"\")\n",
    "for ind, i in enumerate(predictions):\n",
    "    print(word_dict[np.argmax(i)], end='   ')\n",
    "plotImages(imgs)\n",
    "print('Actual labels')\n",
    "for i in labels:\n",
    "    print(word_dict[np.argmax(i)], end='   ')"
   ]
  },
  {
   "cell_type": "markdown",
   "metadata": {},
   "source": [
    "90% des images sont reconnues, notre modèle est plutôt bon."
   ]
  },
  {
   "cell_type": "markdown",
   "metadata": {},
   "source": [
    "# Predire les gestes"
   ]
  },
  {
   "cell_type": "markdown",
   "metadata": {},
   "source": [
    "Nous allons reconnaître les gestes de la main à partir d'une séquence vidéo. Pour reconnaître ces gestes nous devons d'abord retirer la région de la main seule en supprimant toutes les parties indésirables de la séquence vidéo. Après avoir segmenté la région de la main, nous déterminerons quelle est la lettre identifiée pour faire un mot"
   ]
  },
  {
   "cell_type": "markdown",
   "metadata": {},
   "source": [
    "Cette étape va nous permettre de vérifier si notre modèle fonctionne en temps réel dans la vraie vie. \n",
    "\n",
    "2 fenêtres vont s'ouvrir :\n",
    "\n",
    "    - une fenêtre qui propose un cadre de détection dans lequel nous devons insérer notre main \n",
    "    \n",
    "    - la deuxième fenêtre qui va prédire la lettre.\n",
    "    Pour un fonctionnement optimal , nous devons nous placer devant un fond uni car le modèle ne permet pas la détection automatique."
   ]
  },
  {
   "cell_type": "code",
   "execution_count": 19,
   "metadata": {},
   "outputs": [],
   "source": [
    "import numpy as np\n",
    "import cv2\n",
    "import keras\n",
    "from keras.preprocessing.image import ImageDataGenerator\n",
    "import tensorflow as tf"
   ]
  },
  {
   "cell_type": "markdown",
   "metadata": {},
   "source": [
    "Chargement de notre modèle"
   ]
  },
  {
   "cell_type": "code",
   "execution_count": 20,
   "metadata": {},
   "outputs": [],
   "source": [
    "model = keras.models.load_model(r\"C:\\Users\\utilisateur\\Google Drive\\microsoft_ia\\Google Drive\\projets\\ia\\Reconnaissance des signes test\\best_model_dataflair3.h5\")\n",
    "#(background => arrière plan)\n",
    "background = None\n",
    "accumulated_weight = 0.5"
   ]
  },
  {
   "cell_type": "markdown",
   "metadata": {},
   "source": [
    "Mise en place du dimensionnement du cadre qui permettra la prédiction de l'image (endroit qui détecte notre main )"
   ]
  },
  {
   "cell_type": "code",
   "execution_count": 21,
   "metadata": {},
   "outputs": [],
   "source": [
    "\n",
    "# dimensions du ROI cad contour du cadre qui permet la prédiction de l'image(endroit où l'on doit mettre notre main )\n",
    "ROI_top = 50\n",
    "ROI_bottom = 300\n",
    "ROI_right = 50\n",
    "ROI_left = 350"
   ]
  },
  {
   "cell_type": "markdown",
   "metadata": {},
   "source": [
    "Fonction pour calculer la moyenne pondérée accumulée en arrière-plan (pour séparer le premier plan de l'arrière-plan)\n",
    "Puis nous soustrayons celle-ci des cadres qui contiennent un objet devant l'arrière plan (ou premier plan)"
   ]
  },
  {
   "cell_type": "code",
   "execution_count": 22,
   "metadata": {},
   "outputs": [],
   "source": [
    "# Project: gesture-recognition, License: MIT License, OpenSource\n",
    "def cal_accum_avg(frame, accumulated_weight):\n",
    "\n",
    "    global background\n",
    "    \n",
    "    if background is None:\n",
    "        background = frame.copy().astype(\"float\")\n",
    "        return None\n",
    "\n",
    "    cv2.accumulateWeighted(frame, background, accumulated_weight)"
   ]
  },
  {
   "cell_type": "markdown",
   "metadata": {},
   "source": [
    "##### calcul de la valeur seuil : \n",
    "la fonction va nous permettre de calculer la valeur seuil ```Thresholded``` pour chaque image et déterminer le ```contour``` grâce à la fonction ```cv2.findContours```à l'aide du segment de fonction.\n",
    "En d'autres termes, s'il y a ou non une main dans le ROI."
   ]
  },
  {
   "cell_type": "code",
   "execution_count": 23,
   "metadata": {},
   "outputs": [],
   "source": [
    "# Fonction pour l'application du filtre (Thresholded)\n",
    "def segment_hand(frame, threshold=25):\n",
    "    global background\n",
    "    \n",
    "    diff = cv2.absdiff(background.astype(\"uint8\"), frame)\n",
    "\n",
    "    \n",
    "    _ , thresholded = cv2.threshold(diff, threshold, 255, cv2.THRESH_BINARY)\n",
    "    \n",
    "          \n",
    "    #Chercher les contours dans le cadre (objets du premier plan, main par exemple) …\n",
    "    image, contours = cv2.findContours(thresholded, cv2.RETR_EXTERNAL, cv2.CHAIN_APPROX_SIMPLE)\n",
    "    \n",
    "    # si longueur contours list = 0, nous n'avons pas de contour\n",
    "\n",
    "    if contours is None:\n",
    "        return None \n",
    "    else:\n",
    "        \n",
    "        if len(contours)==0:\n",
    "            return None\n",
    "        else:\n",
    "            # le plus grand contour est la main\n",
    "            hand_segment_max_cont = max(image, key=cv2.contourArea)\n",
    "        \n",
    "        # retour du hand_segment_max_countour(max contour) et de l'image seuilde la main cad thresholded image of hand\n",
    "    return (thresholded, hand_segment_max_cont)\n"
   ]
  },
  {
   "cell_type": "markdown",
   "metadata": {},
   "source": [
    "### Détection de la main "
   ]
  },
  {
   "cell_type": "code",
   "execution_count": 42,
   "metadata": {},
   "outputs": [],
   "source": [
    "#ouverture de la caméra\n",
    "cam = cv2.VideoCapture(0)\n",
    "\n",
    "#Nombre de cadre\n",
    "num_frames =0\n",
    "\n",
    "#Création de la liste pour stocker les lettres prédites\n",
    "lst = []\n",
    "\n",
    "\n",
    "while True:\n",
    "    ret, frame = cam.read()\n",
    "\n",
    "    # stabilisation de l'image(éviter le retournement)\n",
    "    \n",
    "    frame = cv2.flip(frame, 1)\n",
    "\n",
    "    frame_copy = frame.copy()\n",
    "\n",
    "    # ROI du cadre\n",
    "    roi = frame[ROI_top:ROI_bottom, ROI_right:ROI_left]\n",
    "\n",
    "    gray_frame = cv2.cvtColor(roi, cv2.COLOR_BGR2GRAY)\n",
    "    gray_frame = cv2.GaussianBlur(gray_frame, (9, 9), 0)\n",
    "\n",
    "     # Détection du Background\n",
    "    if num_frames < 70:\n",
    "        \n",
    "        cal_accum_avg(gray_frame, accumulated_weight)\n",
    "        \n",
    "        # ``` cv2.putText``` permet l'affichage du texte et ne mettre aucun objet ou main dans le ROI lors de la détection de l'arrière-plan)\n",
    "        cv2.putText(frame_copy, \"chargement...PLEASE WAIT\",\n",
    "  (80, 400), cv2.FONT_HERSHEY_SIMPLEX, 0.9, (0,0,255), 2)\n",
    "    \n",
    "    else: \n",
    "        # segmentation de la région de la main\n",
    "        hand = segment_hand(gray_frame)\n",
    "        \n",
    "        # Vérification : détectons-nous bien la main\n",
    "        if hand is not None:\n",
    "            \n",
    "            thresholded, hand_segment = hand\n",
    "\n",
    "            # dessiner des contours autour de la main\n",
    "            cv2.drawContours(frame_copy, [hand_segment + (ROI_right,\n",
    "      ROI_top)], -1, (255, 0, 0),1)\n",
    "            \n",
    "            cv2.imshow(\"Filtre de l'image de la main\", thresholded)\n",
    "            # Traitement\n",
    "            thresholded = cv2.resize(thresholded, (64, 64))\n",
    "            thresholded = cv2.cvtColor(thresholded,\n",
    " cv2.COLOR_GRAY2RGB)\n",
    "            thresholded = np.reshape(thresholded,\n",
    "(1,thresholded.shape[0],thresholded.shape[1],3))\n",
    "            \n",
    "            pred = model.predict(thresholded)\n",
    "            # Affichage de la prédiction\n",
    "            cv2.putText(frame_copy, word_dict[np.argmax(pred)],\n",
    "(170, 45), cv2.FONT_HERSHEY_SIMPLEX, 1, (0,0,255), 2)\n",
    "            #les lettre sont ajoutées à une liste\n",
    "            lst.append(word_dict[np.argmax(pred)])\n",
    "            #pause entre chaque lettre pour avoir le temps de se positionner\n",
    "            sleep(4)\n",
    "            #on joint les lettres selon le référentiel suivant :http://pedagogie.ac-limoges.fr/sti_si/accueil/FichesConnaissances/Sequence2SSi/co/Code_ASCII.html\n",
    "            toto = \"\".join(lst)\n",
    "           # espace\n",
    "            #if cv2.waitKey(1) == 32:\n",
    "                #toto += \" \"\n",
    "                \n",
    "               \n",
    "            #affichage du mot détecté\n",
    "            cv2.putText(frame_copy, toto, (250, 400), cv2.FONT_HERSHEY_SIMPLEX, 1, (0,255,0), 2)\n",
    "            \n",
    "            \n",
    "    # Dessine le ROI du filtre\n",
    "    cv2.rectangle(frame_copy, (ROI_left, ROI_top), (ROI_right,\n",
    "    ROI_bottom), (255,128,0), 3)\n",
    "\n",
    "    # incrementation du nombre d'images\n",
    "    num_frames += 1\n",
    "\n",
    "    # Afficher le cadre avec la main segmentée pour la reconnaissance\n",
    "    cv2.putText(frame_copy, \"Reconnaissance des signes de la main\",\n",
    "    (10, 20), cv2.FONT_ITALIC, 0.5, (51,255,51), 1)\n",
    "    cv2.imshow(\"Detection\", frame_copy)\n",
    "\n",
    "\n",
    "    # fermer la fenêtre avec la touche Esc\n",
    "    k = cv2.waitKey(1) & 0xFF\n",
    "\n",
    "    if k == 27:\n",
    "        break\n",
    "        \n",
    "# fermer la caméra et détruire toutes les fenêtres\n",
    "cam.release()\n",
    "cv2.destroyAllWindows()"
   ]
  },
  {
   "cell_type": "code",
   "execution_count": 43,
   "metadata": {},
   "outputs": [
    {
     "name": "stdout",
     "output_type": "stream",
     "text": [
      "['unknown', 'unknown', 'unknown', 'unknown', 'unknown', 'unknown', 'unknown', 'unknown', 'unknown', 'unknown', 'O', 'unknown', 'O', 'O', 'unknown', 'O', 'H', 'unknown', 'H', 'H', 'O', 'unknown', 'O', 'H', 'unknown', 'O', 'H', 'unknown', 'unknown', 'I', 'I', 'I', 'I', 'I', 'I', 'I']\n"
     ]
    }
   ],
   "source": [
    "print(lst)"
   ]
  },
  {
   "cell_type": "code",
   "execution_count": 44,
   "metadata": {},
   "outputs": [
    {
     "data": {
      "text/plain": [
       "'unknown unknown unknown unknown unknown unknown unknown unknown unknown unknown O unknown O O unknown O H unknown H H O unknown O H unknown O H unknown unknown I I I I I I I'"
      ]
     },
     "execution_count": 44,
     "metadata": {},
     "output_type": "execute_result"
    }
   ],
   "source": [
    "\" \".join(lst)"
   ]
  },
  {
   "cell_type": "markdown",
   "metadata": {},
   "source": [
    "la reconnaissance et l'affichage par caméra fonctionnent "
   ]
  },
  {
   "cell_type": "markdown",
   "metadata": {},
   "source": [
    "https://translate.google.com/translate?hl=fr&sl=en&u=https://data-flair.training/blogs/sign-language-recognition-python-ml-opencv/&prev=search&pto=aue"
   ]
  },
  {
   "cell_type": "markdown",
   "metadata": {},
   "source": [
    "https://data-flair.training/blogs/sign-language-recognition-python-ml-opencv/"
   ]
  },
  {
   "cell_type": "markdown",
   "metadata": {},
   "source": [
    "https://gogul.dev/software/hand-gesture-recognition-p1\n",
    "https://translate.google.com/translate?hl=fr&sl=en&u=https://gogul.dev/software/hand-gesture-recognition-p1&prev=search&pto=aue"
   ]
  }
 ],
 "metadata": {
  "kernelspec": {
   "display_name": "Python 3",
   "language": "python",
   "name": "python3"
  },
  "language_info": {
   "codemirror_mode": {
    "name": "ipython",
    "version": 3
   },
   "file_extension": ".py",
   "mimetype": "text/x-python",
   "name": "python",
   "nbconvert_exporter": "python",
   "pygments_lexer": "ipython3",
   "version": "3.8.5"
  }
 },
 "nbformat": 4,
 "nbformat_minor": 4
}
